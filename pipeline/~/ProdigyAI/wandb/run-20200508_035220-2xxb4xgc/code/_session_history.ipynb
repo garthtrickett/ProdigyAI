{
 "cells": [
  {
   "cell_type": "code",
   "execution_count": 1,
   "metadata": {},
   "outputs": [
    {
     "name": "stdout",
     "output_type": "stream",
     "text": [
      "W&B Run: https://app.wandb.ai/garthtrickett/prodigyai/runs/1xl0is2l"
     ]
    }
   ],
   "source": [
    "print(\"script initiated\")\n",
    "import argparse\n",
    "import os\n",
    "import sys\n",
    "import imblearn\n",
    "from imblearn.over_sampling import SMOTE\n",
    "import matplotlib.pyplot as plt\n",
    "sys.path.append(\"..\")\n",
    "cwd = os.getcwd()\n",
    "from pathlib import Path\n",
    "home = str(Path.home())\n",
    "sys.path.append(home + \"/ProdigyAI\")\n",
    "from numba import njit, prange\n",
    "import tensorflow as tf\n",
    "\n",
    "import math\n",
    "# Init wandb\n",
    "\n",
    "import wandb\n",
    "from wandb.keras import WandbCallback\n",
    "wandb.init(project=\"prodigyai\")"
   ]
  },
  {
   "cell_type": "code",
   "execution_count": 2,
   "metadata": {},
   "outputs": [
    {
     "name": "stdout",
     "output_type": "stream",
     "text": [
      "'/home/garthtrickett/ProdigyAI/pipeline/wandb/run-20200508_034406-1xl0is2l'"
     ]
    }
   ],
   "source": [
    "wandb.run.dir"
   ]
  },
  {
   "cell_type": "code",
   "execution_count": 3,
   "metadata": {},
   "outputs": [],
   "source": [
    "wandb.run.dir = 'test'"
   ]
  },
  {
   "cell_type": "code",
   "execution_count": 4,
   "metadata": {},
   "outputs": [],
   "source": [
    "wandb.run(dir='test')"
   ]
  },
  {
   "cell_type": "code",
   "execution_count": 5,
   "metadata": {},
   "outputs": [
    {
     "name": "stdout",
     "output_type": "stream",
     "text": [
      "'/home/garthtrickett/ProdigyAI/pipeline/wandb/run-20200508_034406-1xl0is2l'"
     ]
    }
   ],
   "source": [
    "wandb.run._dir"
   ]
  },
  {
   "cell_type": "code",
   "execution_count": 6,
   "metadata": {},
   "outputs": [],
   "source": [
    "wandb.run._dir = 'test'"
   ]
  },
  {
   "cell_type": "code",
   "execution_count": 7,
   "metadata": {},
   "outputs": [
    {
     "name": "stdout",
     "output_type": "stream",
     "text": [
      "'test'"
     ]
    }
   ],
   "source": [
    "wandb.run.dir"
   ]
  },
  {
   "cell_type": "code",
   "execution_count": 8,
   "metadata": {},
   "outputs": [
    {
     "name": "stdout",
     "output_type": "stream",
     "text": [
      "W&B Run: https://app.wandb.ai/garthtrickett/prodigyai/runs/1xl0is2l"
     ]
    }
   ],
   "source": [
    "wandb.run"
   ]
  },
  {
   "cell_type": "code",
   "execution_count": 9,
   "metadata": {},
   "outputs": [
    {
     "name": "stdout",
     "output_type": "stream",
     "text": [
      "['__class__',\n",
      " '__delattr__',\n",
      " '__dict__',\n",
      " '__dir__',\n",
      " '__doc__',\n",
      " '__enter__',\n",
      " '__eq__',\n",
      " '__exit__',\n",
      " '__format__',\n",
      " '__ge__',\n",
      " '__getattribute__',\n",
      " '__gt__',\n",
      " '__hash__',\n",
      " '__init__',\n",
      " '__init_subclass__',\n",
      " '__le__',\n",
      " '__lt__',\n",
      " '__module__',\n",
      " '__ne__',\n",
      " '__new__',\n",
      " '__reduce__',\n",
      " '__reduce_ex__',\n",
      " '__repr__',\n",
      " '__setattr__',\n",
      " '__sizeof__',\n",
      " '__str__',\n",
      " '__subclasshook__',\n",
      " '__weakref__',\n",
      " '_add_singleton',\n",
      " '_add_viz',\n",
      " '_api',\n",
      " '_dir',\n",
      " '_events',\n",
      " '_generate_query_string',\n",
      " '_history',\n",
      " '_history_added',\n",
      " '_init_jupyter_agent',\n",
      " '_jupyter_agent',\n",
      " '_load_entity',\n",
      " '_meta',\n",
      " '_mkdir',\n",
      " '_name',\n",
      " '_name_and_description',\n",
      " '_run_manager',\n",
      " '_stop_jupyter_agent',\n",
      " '_summary',\n",
      " 'api',\n",
      " 'args',\n",
      " 'auto_project_name',\n",
      " 'close_files',\n",
      " 'config',\n",
      " 'config_static',\n",
      " 'description',\n",
      " 'description_path',\n",
      " 'dir',\n",
      " 'enable_logging',\n",
      " 'entity',\n",
      " 'events',\n",
      " 'from_directory',\n",
      " 'from_environment_or_defaults',\n",
      " 'get_project_url',\n",
      " 'get_sweep_url',\n",
      " 'get_url',\n",
      " 'group',\n",
      " 'has_events',\n",
      " 'has_history',\n",
      " 'has_summary',\n",
      " 'history',\n",
      " 'host',\n",
      " 'id',\n",
      " 'job_type',\n",
      " 'log',\n",
      " 'log_fname',\n",
      " 'mode',\n",
      " 'name',\n",
      " 'notes',\n",
      " 'path',\n",
      " 'pid',\n",
      " 'program',\n",
      " 'project',\n",
      " 'project_name',\n",
      " 'resume',\n",
      " 'resumed',\n",
      " 'save',\n",
      " 'send_message',\n",
      " 'set_environment',\n",
      " 'socket',\n",
      " 'step',\n",
      " 'storage_id',\n",
      " 'summary',\n",
      " 'sweep_id',\n",
      " 'tags',\n",
      " 'upload_debug',\n",
      " 'wandb_dir',\n",
      " 'watch']"
     ]
    }
   ],
   "source": [
    "dir(wandb.run)"
   ]
  },
  {
   "cell_type": "code",
   "execution_count": 10,
   "metadata": {},
   "outputs": [],
   "source": [
    "wandb.run.wandb_dir"
   ]
  },
  {
   "cell_type": "code",
   "execution_count": 11,
   "metadata": {},
   "outputs": [],
   "source": [
    "wandb.run.wandb_dir"
   ]
  },
  {
   "cell_type": "code",
   "execution_count": 12,
   "metadata": {},
   "outputs": [],
   "source": [
    "print(\"script initiated\")\n",
    "import argparse\n",
    "import os\n",
    "import sys\n",
    "import imblearn\n",
    "from imblearn.over_sampling import SMOTE\n",
    "import matplotlib.pyplot as plt\n",
    "sys.path.append(\"..\")\n",
    "cwd = os.getcwd()\n",
    "from pathlib import Path\n",
    "home = str(Path.home())\n",
    "sys.path.append(home + \"/ProdigyAI\")\n",
    "from numba import njit, prange\n",
    "import tensorflow as tf\n",
    "\n",
    "import math\n",
    "# Init wandb\n",
    "\n",
    "import wandb\n",
    "from wandb.keras import WandbCallback\n",
    "wandb.init(project=\"prodigyai\")\n",
    "wandb.run._dir = '/home/garthtrickett/ProdigyAI/wandb'"
   ]
  },
  {
   "cell_type": "code",
   "execution_count": 13,
   "metadata": {},
   "outputs": [
    {
     "name": "stdout",
     "output_type": "stream",
     "text": [
      "'/home/garthtrickett/ProdigyAI/wandb'"
     ]
    }
   ],
   "source": [
    "wandb.run.dir"
   ]
  },
  {
   "cell_type": "code",
   "execution_count": 14,
   "metadata": {},
   "outputs": [
    {
     "name": "stdout",
     "output_type": "stream",
     "text": [
      "W&B Run: https://app.wandb.ai/garthtrickett/prodigyai/runs/kbdn484p"
     ]
    }
   ],
   "source": [
    "wandb.init(project=\"prodigyai\")"
   ]
  },
  {
   "cell_type": "code",
   "execution_count": 15,
   "metadata": {},
   "outputs": [
    {
     "name": "stdout",
     "output_type": "stream",
     "text": [
      "'/home/garthtrickett/ProdigyAI/pipeline/wandb/run-20200508_034913-kbdn484p'"
     ]
    }
   ],
   "source": [
    "wandb.run._dir"
   ]
  },
  {
   "cell_type": "code",
   "execution_count": 16,
   "metadata": {},
   "outputs": [
    {
     "name": "stdout",
     "output_type": "stream",
     "text": [
      "['',\n",
      " 'home',\n",
      " 'garthtrickett',\n",
      " 'ProdigyAI',\n",
      " 'pipeline',\n",
      " 'wandb',\n",
      " 'run-20200508_034913-kbdn484p']"
     ]
    }
   ],
   "source": [
    "wandb.run.dir.split('/')"
   ]
  },
  {
   "cell_type": "code",
   "execution_count": 17,
   "metadata": {},
   "outputs": [
    {
     "name": "stdout",
     "output_type": "stream",
     "text": [
      "'/home/garthtrickett/ProdigyAI/wandb/run-20200508_034913-kbdn484p'"
     ]
    }
   ],
   "source": [
    "\"/home/garthtrickett/ProdigyAI/wandb/\" + wandb.run.dir.split('/')[-1]"
   ]
  },
  {
   "cell_type": "code",
   "execution_count": 18,
   "metadata": {},
   "outputs": [],
   "source": [
    "wandb.run._dir = \"/home/garthtrickett/ProdigyAI/wandb/\" + wandb.run.dir.split('/')[-1]"
   ]
  },
  {
   "cell_type": "code",
   "execution_count": 19,
   "metadata": {},
   "outputs": [],
   "source": [
    "from wandb.keras import WandbCallback\n",
    "wandb.init(project=\"prodigyai\")\n",
    "wandb.run._dir = \"~/ProdigyAI/wandb/\" + wandb.run.dir.split('/')[-1]"
   ]
  }
 ],
 "metadata": {
  "kernelspec": {
   "display_name": "Python 3",
   "language": "python",
   "name": "python3"
  },
  "language_info": {
   "codemirror_mode": {
    "name": "ipython",
    "version": 3
   },
   "file_extension": ".py",
   "mimetype": "text/x-python",
   "name": "python",
   "nbconvert_exporter": "python",
   "pygments_lexer": "ipython3",
   "version": "3.7.6"
  }
 },
 "nbformat": 4,
 "nbformat_minor": 4
}
