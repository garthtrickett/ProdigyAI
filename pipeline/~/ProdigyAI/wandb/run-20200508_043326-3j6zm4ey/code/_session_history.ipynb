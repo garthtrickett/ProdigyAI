{
 "cells": [
  {
   "cell_type": "code",
   "execution_count": 1,
   "metadata": {},
   "outputs": [
    {
     "name": "stdout",
     "output_type": "stream",
     "text": [
      "(6, 0, 3)"
     ]
    }
   ],
   "source": [
    "print(\"script initiated\")\n",
    "import argparse\n",
    "import os\n",
    "import sys\n",
    "import imblearn\n",
    "from imblearn.over_sampling import SMOTE\n",
    "import matplotlib.pyplot as plt\n",
    "sys.path.append(\"..\")\n",
    "cwd = os.getcwd()\n",
    "from pathlib import Path\n",
    "home = str(Path.home())\n",
    "sys.path.append(home + \"/ProdigyAI\")\n",
    "from numba import njit, prange\n",
    "import tensorflow as tf\n",
    "import math\n",
    "import keras\n",
    "import numpy as np\n",
    "from third_party_libraries.TABL import Models\n",
    "from third_party_libraries.keras_lr_finder.lr_finder import LRFinder\n",
    "from third_party_libraries.CLR.clr_callbacks import CyclicLR\n",
    "from tensorflow.keras.losses import categorical_crossentropy\n",
    "from tensorflow.keras.optimizers import SGD, Adam\n",
    "\n",
    "from keras.callbacks import ModelCheckpoint\n",
    "# Init wandb\n",
    "\n",
    "import wandb\n",
    "from wandb.keras import WandbCallback\n",
    "\n",
    "hyperparameter_defaults = dict(\n",
    "    dropout=0.5,\n",
    "    batch_size=100,\n",
    "    learning_rate=0.001,\n",
    ")\n",
    "\n",
    "config_dictionary = dict(yaml=\"~/ProdigyAI/tabl.yaml\",\n",
    "                         params=hyperparameter_defaults)\n",
    "\n",
    "wandb.run._dir = \"~/ProdigyAI/wandb/\" + wandb.run.dir.split('/')[-1]\n",
    "\n",
    "wandb.init(\n",
    "    dir=\"~/ProdigyAI/wandb/\",\n",
    "    project=\"prodigyai\",\n",
    "    config=config_dictionary,\n",
    ")"
   ]
  },
  {
   "cell_type": "code",
   "execution_count": 2,
   "metadata": {},
   "outputs": [],
   "source": [
    "print(\"script initiated\")\n",
    "import argparse\n",
    "import os\n",
    "import sys\n",
    "import imblearn\n",
    "from imblearn.over_sampling import SMOTE\n",
    "import matplotlib.pyplot as plt\n",
    "sys.path.append(\"..\")\n",
    "cwd = os.getcwd()\n",
    "from pathlib import Path\n",
    "home = str(Path.home())\n",
    "sys.path.append(home + \"/ProdigyAI\")\n",
    "from numba import njit, prange\n",
    "import tensorflow as tf\n",
    "import math\n",
    "import keras\n",
    "import numpy as np\n",
    "from third_party_libraries.TABL import Models\n",
    "from third_party_libraries.keras_lr_finder.lr_finder import LRFinder\n",
    "from third_party_libraries.CLR.clr_callbacks import CyclicLR\n",
    "from tensorflow.keras.losses import categorical_crossentropy\n",
    "from tensorflow.keras.optimizers import SGD, Adam\n",
    "\n",
    "from keras.callbacks import ModelCheckpoint\n",
    "# Init wandb\n",
    "\n",
    "import wandb\n",
    "from wandb.keras import WandbCallback\n",
    "\n",
    "hyperparameter_defaults = dict(\n",
    "    dropout=0.5,\n",
    "    batch_size=100,\n",
    "    learning_rate=0.001,\n",
    ")\n",
    "\n",
    "config_dictionary = dict(yaml=\"~/ProdigyAI/tabl.yaml\",\n",
    "                         params=hyperparameter_defaults)\n",
    "\n",
    "wandb.init(\n",
    "    dir=\"~/ProdigyAI/wandb/\",\n",
    "    project=\"prodigyai\",\n",
    "    config=config_dictionary,\n",
    ")\n",
    "\n",
    "wandb.run._dir = \"~/ProdigyAI/wandb/\" + wandb.run.dir.split('/')[-1]"
   ]
  }
 ],
 "metadata": {
  "kernelspec": {
   "display_name": "Python 3",
   "language": "python",
   "name": "python3"
  },
  "language_info": {
   "codemirror_mode": {
    "name": "ipython",
    "version": 3
   },
   "file_extension": ".py",
   "mimetype": "text/x-python",
   "name": "python",
   "nbconvert_exporter": "python",
   "pygments_lexer": "ipython3",
   "version": "3.7.6"
  }
 },
 "nbformat": 4,
 "nbformat_minor": 4
}
